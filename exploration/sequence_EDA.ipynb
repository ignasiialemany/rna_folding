{
 "cells": [
  {
   "cell_type": "code",
   "execution_count": 10,
   "metadata": {},
   "outputs": [],
   "source": [
    "import pandas as pd \n",
    "from pathlib import Path "
   ]
  },
  {
   "cell_type": "code",
   "execution_count": 11,
   "metadata": {},
   "outputs": [],
   "source": [
    "# Reading train, validation and test data\n",
    "BASE_PATH = Path('../data')\n",
    "\n",
    "TRAIN_SEQUENCE_PATH = BASE_PATH.joinpath('train_sequences.csv')\n",
    "VAL_SEQUENCE_PATH = BASE_PATH.joinpath('validation_sequences.csv')\n",
    "TEST_SEQUENCE_PATH = BASE_PATH.joinpath('test_sequences.csv')\n",
    "\n",
    "train_sequence_df = pd.read_csv(TRAIN_SEQUENCE_PATH)\n",
    "val_sequence_df   = pd.read_csv(VAL_SEQUENCE_PATH)\n",
    "test_sequence_df  = pd.read_csv(TEST_SEQUENCE_PATH)"
   ]
  },
  {
   "cell_type": "code",
   "execution_count": 12,
   "metadata": {},
   "outputs": [
    {
     "data": {
      "text/html": [
       "<div>\n",
       "<style scoped>\n",
       "    .dataframe tbody tr th:only-of-type {\n",
       "        vertical-align: middle;\n",
       "    }\n",
       "\n",
       "    .dataframe tbody tr th {\n",
       "        vertical-align: top;\n",
       "    }\n",
       "\n",
       "    .dataframe thead th {\n",
       "        text-align: right;\n",
       "    }\n",
       "</style>\n",
       "<table border=\"1\" class=\"dataframe\">\n",
       "  <thead>\n",
       "    <tr style=\"text-align: right;\">\n",
       "      <th></th>\n",
       "      <th>target_id</th>\n",
       "      <th>sequence</th>\n",
       "      <th>temporal_cutoff</th>\n",
       "      <th>description</th>\n",
       "      <th>all_sequences</th>\n",
       "    </tr>\n",
       "  </thead>\n",
       "  <tbody>\n",
       "    <tr>\n",
       "      <th>0</th>\n",
       "      <td>1SCL_A</td>\n",
       "      <td>GGGUGCUCAGUACGAGAGGAACCGCACCC</td>\n",
       "      <td>1995-01-26</td>\n",
       "      <td>THE SARCIN-RICIN LOOP, A MODULAR RNA</td>\n",
       "      <td>&gt;1SCL_1|Chain A|RNA SARCIN-RICIN LOOP|Rattus n...</td>\n",
       "    </tr>\n",
       "    <tr>\n",
       "      <th>1</th>\n",
       "      <td>1RNK_A</td>\n",
       "      <td>GGCGCAGUGGGCUAGCGCCACUCAAAAGGCCCAU</td>\n",
       "      <td>1995-02-27</td>\n",
       "      <td>THE STRUCTURE OF AN RNA PSEUDOKNOT THAT CAUSES...</td>\n",
       "      <td>&gt;1RNK_1|Chain A|RNA PSEUDOKNOT|null\\nGGCGCAGUG...</td>\n",
       "    </tr>\n",
       "    <tr>\n",
       "      <th>2</th>\n",
       "      <td>1RHT_A</td>\n",
       "      <td>GGGACUGACGAUCACGCAGUCUAU</td>\n",
       "      <td>1995-06-03</td>\n",
       "      <td>24-MER RNA HAIRPIN COAT PROTEIN BINDING SITE F...</td>\n",
       "      <td>&gt;1RHT_1|Chain A|RNA (5'-R(P*GP*GP*GP*AP*CP*UP*...</td>\n",
       "    </tr>\n",
       "    <tr>\n",
       "      <th>3</th>\n",
       "      <td>1HLX_A</td>\n",
       "      <td>GGGAUAACUUCGGUUGUCCC</td>\n",
       "      <td>1995-09-15</td>\n",
       "      <td>P1 HELIX NUCLEIC ACIDS (DNA/RNA) RIBONUCLEIC ACID</td>\n",
       "      <td>&gt;1HLX_1|Chain A|RNA (5'-R(*GP*GP*GP*AP*UP*AP*A...</td>\n",
       "    </tr>\n",
       "    <tr>\n",
       "      <th>4</th>\n",
       "      <td>1HMH_E</td>\n",
       "      <td>GGCGACCCUGAUGAGGCCGAAAGGCCGAAACCGU</td>\n",
       "      <td>1995-12-07</td>\n",
       "      <td>THREE-DIMENSIONAL STRUCTURE OF A HAMMERHEAD RI...</td>\n",
       "      <td>&gt;1HMH_1|Chains A, C, E|HAMMERHEAD RIBOZYME-RNA...</td>\n",
       "    </tr>\n",
       "  </tbody>\n",
       "</table>\n",
       "</div>"
      ],
      "text/plain": [
       "  target_id                            sequence temporal_cutoff  \\\n",
       "0    1SCL_A       GGGUGCUCAGUACGAGAGGAACCGCACCC      1995-01-26   \n",
       "1    1RNK_A  GGCGCAGUGGGCUAGCGCCACUCAAAAGGCCCAU      1995-02-27   \n",
       "2    1RHT_A            GGGACUGACGAUCACGCAGUCUAU      1995-06-03   \n",
       "3    1HLX_A                GGGAUAACUUCGGUUGUCCC      1995-09-15   \n",
       "4    1HMH_E  GGCGACCCUGAUGAGGCCGAAAGGCCGAAACCGU      1995-12-07   \n",
       "\n",
       "                                         description  \\\n",
       "0               THE SARCIN-RICIN LOOP, A MODULAR RNA   \n",
       "1  THE STRUCTURE OF AN RNA PSEUDOKNOT THAT CAUSES...   \n",
       "2  24-MER RNA HAIRPIN COAT PROTEIN BINDING SITE F...   \n",
       "3  P1 HELIX NUCLEIC ACIDS (DNA/RNA) RIBONUCLEIC ACID   \n",
       "4  THREE-DIMENSIONAL STRUCTURE OF A HAMMERHEAD RI...   \n",
       "\n",
       "                                       all_sequences  \n",
       "0  >1SCL_1|Chain A|RNA SARCIN-RICIN LOOP|Rattus n...  \n",
       "1  >1RNK_1|Chain A|RNA PSEUDOKNOT|null\\nGGCGCAGUG...  \n",
       "2  >1RHT_1|Chain A|RNA (5'-R(P*GP*GP*GP*AP*CP*UP*...  \n",
       "3  >1HLX_1|Chain A|RNA (5'-R(*GP*GP*GP*AP*UP*AP*A...  \n",
       "4  >1HMH_1|Chains A, C, E|HAMMERHEAD RIBOZYME-RNA...  "
      ]
     },
     "execution_count": 12,
     "metadata": {},
     "output_type": "execute_result"
    }
   ],
   "source": [
    "train_sequence_df.head()"
   ]
  },
  {
   "cell_type": "code",
   "execution_count": 13,
   "metadata": {},
   "outputs": [
    {
     "name": "stdout",
     "output_type": "stream",
     "text": [
      "Train sequences has size: (844, 5)\n",
      "Validation sequences has size: (12, 5)\n",
      "Test sequences has size: (12, 5)\n"
     ]
    }
   ],
   "source": [
    "print(f\"Train sequences has size: {train_sequence_df.shape}\")\n",
    "print(f\"Validation sequences has size: {val_sequence_df.shape}\")\n",
    "print(f\"Test sequences has size: {test_sequence_df.shape}\")"
   ]
  },
  {
   "cell_type": "code",
   "execution_count": 14,
   "metadata": {},
   "outputs": [
    {
     "name": "stdout",
     "output_type": "stream",
     "text": [
      "Missing values for training sequence dataset:\n",
      "target_id          0\n",
      "sequence           0\n",
      "temporal_cutoff    0\n",
      "description        0\n",
      "all_sequences      5\n",
      "dtype: int64\n",
      "Missing values for training sequence dataset:\n",
      "target_id          0\n",
      "sequence           0\n",
      "temporal_cutoff    0\n",
      "description        0\n",
      "all_sequences      0\n",
      "dtype: int64\n",
      "Missing values for training sequence dataset:\n",
      "target_id          0\n",
      "sequence           0\n",
      "temporal_cutoff    0\n",
      "description        0\n",
      "all_sequences      0\n",
      "dtype: int64\n"
     ]
    }
   ],
   "source": [
    "# Check for missing values\n",
    "\n",
    "for df in [train_sequence_df, val_sequence_df, test_sequence_df]:\n",
    "    print(\"Missing values for training sequence dataset:\")\n",
    "    print(df.isna().sum())"
   ]
  },
  {
   "cell_type": "markdown",
   "metadata": {},
   "source": [
    "We can see that the training sequence has 5 missing \"all_sequence\".\n",
    "For the other datasets, there are no missing values"
   ]
  },
  {
   "cell_type": "code",
   "execution_count": 15,
   "metadata": {},
   "outputs": [],
   "source": [
    "# Now, let's look at the `sequence` column\n",
    "train_sequence_len = train_sequence_df['sequence'].apply(len)"
   ]
  },
  {
   "cell_type": "code",
   "execution_count": 16,
   "metadata": {},
   "outputs": [
    {
     "data": {
      "image/png": "[encoded data removed]",
      "text/plain": [
       "<Figure size 640x480 with 1 Axes>"
      ]
     },
     "metadata": {},
     "output_type": "display_data"
    }
   ],
   "source": [
    "import matplotlib.pyplot as plt\n",
    "plt.hist(train_sequence_len, bins = 50)\n",
    "plt.show()\n"
   ]
  },
  {
   "cell_type": "code",
   "execution_count": 17,
   "metadata": {},
   "outputs": [
    {
     "name": "stdout",
     "output_type": "stream",
     "text": [
      "Number of sequences with non-standard letters: 4\n",
      "\n",
      "Sequences containing non-standard letters:\n",
      "\n",
      "Sequence 610:\n",
      "Target ID: 6WB1_C\n",
      "Sequence: GACUCUGGUAACUAGAGAUCCCUCAGACCCUUUUAGUCAGUGUGGAAAAUCU--CUAGCAGUGGCGCCCGAACAGGGACUUGAAAGCGAAAGUAAAGCCAGAG\n",
      "Non-standard letters: {'-'}\n",
      "\n",
      "Sequence 639:\n",
      "Target ID: 6Y0C_IN1\n",
      "Sequence: AGUAGAAACAAGGG--UAUUUUUCUUUACUAGUCUACCCUGCUUUUGCU\n",
      "Non-standard letters: {'-'}\n",
      "\n",
      "Sequence 687:\n",
      "Target ID: 7SLP_R\n",
      "Sequence: XGAUGUGAGGGCGACUUCGGUCCUCCCUCACCGCUCCAUGUGCGAAAUGAGGCGCUGCAUGUGGCAGUCUGCCUUUCUUUU\n",
      "Non-standard letters: {'X'}\n",
      "\n",
      "Sequence 782:\n",
      "Target ID: 8H6E_4A\n",
      "Sequence: XAGCUUUGCGCAGUGGCAGUAUCGUAGCCAAUGAGGUCUAUCCGAGGCGCGAUUAUUGCUAAUUGAAAACUUUUCCCAAUACCCCGCCGUGACGACUUGCAAUAUAGUCGGCACUGGCAAUUUUUGACAGUCUCUACGGAGACUGG\n",
      "Non-standard letters: {'X'}\n"
     ]
    }
   ],
   "source": [
    "# According to the description:\n",
    "# sequence - (string) The RNA sequence. For test_sequences.csv, this is guaranteed to be a string of A, C, G, and U. For some train_sequences.csv, other characters may appear.\n",
    "\n",
    "# We can check if there are any other characters in the `sequence` column in the training set\n",
    "\n",
    "# Count sequences with letters other than A,C,G,U\n",
    "non_standard = train_sequence_df['sequence'].apply(lambda x: len(set(x) - set('ACGU')))\n",
    "print(f\"Number of sequences with non-standard letters: {(non_standard > 0).sum()}\")\n",
    "# Print sequences with non-standard letters\n",
    "non_standard_seqs = train_sequence_df[non_standard > 0]\n",
    "print(\"\\nSequences containing non-standard letters:\")\n",
    "for idx, row in non_standard_seqs.iterrows():\n",
    "    print(f\"\\nSequence {idx}:\")\n",
    "    print(f\"Target ID: {row['target_id']}\")\n",
    "    print(f\"Sequence: {row['sequence']}\")\n",
    "    print(f\"Non-standard letters: {set(row['sequence']) - set('ACGU')}\")\n",
    "\n",
    "\n",
    "# We observe that some entries have `-` and `X` - maybe they are placeholders or missing values?"
   ]
  },
  {
   "cell_type": "markdown",
   "metadata": {},
   "source": [
    "Most of the sequences are quite short, but there are some outliers with very long sequences."
   ]
  },
  {
   "cell_type": "code",
   "execution_count": 18,
   "metadata": {},
   "outputs": [
    {
     "name": "stdout",
     "output_type": "stream",
     "text": [
      "Number of unique PDB IDs: 735\n",
      "Number of unique chain IDs: 99\n",
      "Top 10 PDB IDs: target_id\n",
      "4V5Z    11\n",
      "2OM7     7\n",
      "1ZC8     6\n",
      "2R1G     6\n",
      "4V7E     5\n",
      "4V6X     5\n",
      "3DEG     5\n",
      "4V6W     5\n",
      "6ZVK     5\n",
      "5MC6     4\n",
      "Name: count, dtype: int64\n",
      "Top 10 chain IDs: target_id\n",
      "A    381\n",
      "B    117\n",
      "C     48\n",
      "D     36\n",
      "R     22\n",
      "E     17\n",
      "F     14\n",
      "H     11\n",
      "S     11\n",
      "V      9\n",
      "Name: count, dtype: int64\n"
     ]
    }
   ],
   "source": [
    "# Now, let's study the `target_id`. This variable corresponds to the identifier of the Protein Data Bank https://www.rcsb.org/\n",
    "\n",
    "# The format of this variable is PDB_ID_CHAIN_ID, where PDB_ID is the identifier of the protein in the Data Bank, CHAIN_ID is the identifier of the monomer in the pdb file.\n",
    "\n",
    "# for example, the target_id of the first row is 1SCL_A. We can view this protein here: https://www.rcsb.org/structure/1SCL\n",
    "\n",
    "\n",
    "# How many unique target_ids are there?\n",
    "pdb_ids = train_sequence_df['target_id'].str.split('_').str[0]\n",
    "chain_ids = train_sequence_df['target_id'].str.split('_').str[1]\n",
    "\n",
    "print(f\"Number of unique PDB IDs: {len(pdb_ids.unique())}\")\n",
    "print(f\"Number of unique chain IDs: {len(chain_ids.unique())}\")\n",
    "\n",
    "\n",
    "pdb_id_counts = pdb_ids.value_counts()\n",
    "chain_id_counts = chain_ids.value_counts()\n",
    "\n",
    "print(f\"Top 10 PDB IDs: {pdb_id_counts.head(10)}\")\n",
    "print(f\"Top 10 chain IDs: {chain_id_counts.head(10)}\")\n"
   ]
  },
  {
   "cell_type": "code",
   "execution_count": 19,
   "metadata": {},
   "outputs": [],
   "source": [
    "# TODO: explore `description`, `all_sequences`"
   ]
  }
 ],
 "metadata": {
  "kernelspec": {
   "display_name": "Python 3",
   "language": "python",
   "name": "python3"
  },
  "language_info": {
   "codemirror_mode": {
    "name": "ipython",
    "version": 3
   },
   "file_extension": ".py",
   "mimetype": "text/x-python",
   "name": "python",
   "nbconvert_exporter": "python",
   "pygments_lexer": "ipython3",
   "version": "3.13.2"
  }
 },
 "nbformat": 4,
 "nbformat_minor": 2
}
