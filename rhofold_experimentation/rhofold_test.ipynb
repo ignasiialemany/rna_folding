{
 "cells": [
  {
   "cell_type": "markdown",
   "metadata": {},
   "source": [
    "## RHOFOLD+ experimentation"
   ]
  },
  {
   "cell_type": "code",
   "execution_count": 28,
   "metadata": {},
   "outputs": [],
   "source": [
    "import pandas as pd\n",
    "from torch.utils.data import Dataset, DataLoader\n",
    "import numpy as np\n",
    "import torch\n",
    "import os\n",
    "from tqdm import tqdm\n",
    "\n",
    "PATH_DATA = \"../data/\"\n",
    "INPUT_DIR = \"input_fasta_test\"\n",
    "RHOFOLD_PATH = \"../models/RhoFold/\""
   ]
  },
  {
   "cell_type": "code",
   "execution_count": null,
   "metadata": {},
   "outputs": [],
   "source": []
  },
  {
   "cell_type": "code",
   "execution_count": 3,
   "metadata": {},
   "outputs": [],
   "source": [
    "test_data = pd.read_csv(PATH_DATA + \"test_sequences.csv\")"
   ]
  },
  {
   "cell_type": "code",
   "execution_count": 14,
   "metadata": {},
   "outputs": [
    {
     "name": "stdout",
     "output_type": "stream",
     "text": [
      "Test data has length: 12\n"
     ]
    }
   ],
   "source": [
    "test_data.head()\n",
    "print(\"Test data has length:\", len(test_data))"
   ]
  },
  {
   "cell_type": "code",
   "execution_count": 13,
   "metadata": {},
   "outputs": [
    {
     "name": "stdout",
     "output_type": "stream",
     "text": [
      "Tokenized sequence: tensor([2, 2, 2, 2, 2, 1, 1, 0, 1, 0, 2, 1, 0, 2, 0, 0, 2, 1, 2, 3, 3, 1, 0, 1,\n",
      "        2, 3, 1, 2, 1, 0, 2, 1, 1, 1, 1, 3, 2, 3, 1, 0, 2, 1, 1, 0, 3, 3, 2, 1,\n",
      "        0, 1, 3, 1, 1, 2, 2, 1, 3, 2, 1, 2, 0, 0, 3, 3, 1, 3, 2, 1, 3])\n"
     ]
    }
   ],
   "source": [
    "class RNADataset(Dataset):\n",
    "    def __init__(self,data):\n",
    "        self.data=data\n",
    "        self.tokens={nt:i for i,nt in enumerate('ACGU')}\n",
    "        \n",
    "    def __len__(self):\n",
    "        return len(self.data)\n",
    "    \n",
    "    def __getitem__(self, idx):\n",
    "        sequence = self.data.loc[idx,'sequence']\n",
    "        tokenized_sequence = np.array([self.tokens[nt] for nt in sequence])\n",
    "        tokenized_sequence = torch.tensor(tokenized_sequence)\n",
    "        return tokenized_sequence\n",
    "    \n",
    "dataset = RNADataset(test_data)\n",
    "print(\"Tokenized sequence:\", dataset[0])"
   ]
  },
  {
   "cell_type": "code",
   "execution_count": 25,
   "metadata": {},
   "outputs": [
    {
     "name": "stderr",
     "output_type": "stream",
     "text": [
      "Generating input fasta files: 100%|██████████| 12/12 [00:00<00:00, 527.60it/s]\n"
     ]
    }
   ],
   "source": [
    "#generate directory for fasta files \n",
    "os.makedirs(INPUT_DIR, exist_ok=True)\n",
    "\n",
    "for target_id in tqdm(test_data[\"target_id\"].values, desc=\"Generating input fasta files\"):\n",
    "    sequence = test_data[test_data[\"target_id\"] == target_id][\"sequence\"].to_string(index = False, header = False)\n",
    "    with open(f\"{INPUT_DIR}/{target_id}.fasta\", \"w\") as text_file:\n",
    "        text_file.write(f\">{target_id}\\n\")\n",
    "        text_file.write(sequence)"
   ]
  },
  {
   "cell_type": "code",
   "execution_count": 29,
   "metadata": {},
   "outputs": [
    {
     "name": "stderr",
     "output_type": "stream",
     "text": [
      "python: can't open file '/home/ignasi/Desktop/kagle/rhofold_experimentation/inference.py': [Errno 2] No such file or directory\n",
      "python: can't open file '/home/ignasi/Desktop/kagle/rhofold_experimentation/inference.py': [Errno 2] No such file or directory\n",
      "python: can't open file '/home/ignasi/Desktop/kagle/rhofold_experimentation/inference.py': [Errno 2] No such file or directory\n",
      "python: can't open file '/home/ignasi/Desktop/kagle/rhofold_experimentation/inference.py': [Errno 2] No such file or directory\n",
      "python: can't open file '/home/ignasi/Desktop/kagle/rhofold_experimentation/inference.py': [Errno 2] No such file or directory\n",
      "python: can't open file '/home/ignasi/Desktop/kagle/rhofold_experimentation/inference.py': [Errno 2] No such file or directory\n",
      "python: can't open file '/home/ignasi/Desktop/kagle/rhofold_experimentation/inference.py': [Errno 2] No such file or directory\n",
      "python: can't open file '/home/ignasi/Desktop/kagle/rhofold_experimentation/inference.py': [Errno 2] No such file or directory\n",
      "python: can't open file '/home/ignasi/Desktop/kagle/rhofold_experimentation/inference.py': [Errno 2] No such file or directory\n",
      "python: can't open file '/home/ignasi/Desktop/kagle/rhofold_experimentation/inference.py': [Errno 2] No such file or directory\n",
      "python: can't open file '/home/ignasi/Desktop/kagle/rhofold_experimentation/inference.py': [Errno 2] No such file or directory\n",
      "python: can't open file '/home/ignasi/Desktop/kagle/rhofold_experimentation/inference.py': [Errno 2] No such file or directory\n"
     ]
    }
   ],
   "source": [
    "for target_id in test_data[\"target_id\"].values:\n",
    "    os.makedirs(f\"./out/{target_id}\", exist_ok = True)\n",
    "    msa_a3m_file = f\"{PATH_DATA}+/MSA/{target_id}.MSA.fasta\"\n",
    "    input_fasta_file = f\"{INPUT_DIR}/{target_id}.fasta\"\n",
    "    if len(open(input_fasta_file, 'r').read()) > 400:\n",
    "        print(f\"Skipping {target_id} because it's too long\")\n",
    "        continue\n",
    "    device = \"cpu\" if len(open(input_fasta_file, 'r').read()) > 400 else \"cuda:0\"\n",
    "    run_folding = f\"python inference.py --relax_steps 0 --input_fas {input_fasta_file} --input_a3m {msa_a3m_file} --output_dir ./out/{target_id}/ --device {device} --ckpt {RHOFOLD_PATH}/pretrained/RhoFold_pretrained.pt\"\n",
    "    os.system(run_folding)"
   ]
  },
  {
   "cell_type": "code",
   "execution_count": null,
   "metadata": {},
   "outputs": [],
   "source": []
  }
 ],
 "metadata": {
  "kernelspec": {
   "display_name": "pytorch_venv",
   "language": "python",
   "name": "python3"
  },
  "language_info": {
   "codemirror_mode": {
    "name": "ipython",
    "version": 3
   },
   "file_extension": ".py",
   "mimetype": "text/x-python",
   "name": "python",
   "nbconvert_exporter": "python",
   "pygments_lexer": "ipython3",
   "version": "3.10.13"
  }
 },
 "nbformat": 4,
 "nbformat_minor": 2
}
